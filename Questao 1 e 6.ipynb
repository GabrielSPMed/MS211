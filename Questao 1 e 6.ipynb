{
 "cells": [
  {
   "cell_type": "code",
   "execution_count": 1,
   "metadata": {},
   "outputs": [],
   "source": [
    "#Gabriel Souza Pinto Medeiros\n",
    "#RA: 172497"
   ]
  },
  {
   "cell_type": "code",
   "execution_count": 2,
   "metadata": {},
   "outputs": [],
   "source": [
    "import numpy as np\n",
    "import matplotlib.pyplot as plt"
   ]
  },
  {
   "cell_type": "code",
   "execution_count": 3,
   "metadata": {},
   "outputs": [],
   "source": [
    "def bipartition (a, b, f):\n",
    "    max_iteration = 4000\n",
    "    threshold = 0.0000000001\n",
    "    for i in range(0, max_iteration):\n",
    "        c = (a + b)/2\n",
    "        if ((f(c) == 0 ) or (np.abs(f(c)) < threshold)):\n",
    "            return c\n",
    "        if (f(c)>0):\n",
    "            a = c\n",
    "        if (f(c)<0): \n",
    "            b = c"
   ]
  },
  {
   "cell_type": "code",
   "execution_count": null,
   "metadata": {},
   "outputs": [],
   "source": [
    "#Questao 1"
   ]
  },
  {
   "cell_type": "code",
   "execution_count": 25,
   "metadata": {},
   "outputs": [],
   "source": [
    "f = lambda x: -0.25 + 0.5*np.exp(-x/(2*np.pi))*np.sin(x)"
   ]
  },
  {
   "cell_type": "code",
   "execution_count": 27,
   "metadata": {},
   "outputs": [
    {
     "data": {
      "image/png": "[encoded data removed]",
      "text/plain": [
       "<Figure size 432x288 with 1 Axes>"
      ]
     },
     "metadata": {
      "needs_background": "light"
     },
     "output_type": "display_data"
    }
   ],
   "source": [
    "x = np.linspace(0, 5, 3000)\n",
    "y = f(x)\n",
    "plt.axes()\n",
    "plt.plot(x, [f(d) for d in x])\n",
    "plt.show()"
   ]
  },
  {
   "cell_type": "code",
   "execution_count": 6,
   "metadata": {},
   "outputs": [
    {
     "name": "stdout",
     "output_type": "stream",
     "text": [
      "Raiz: 2.3311383137479424\n"
     ]
    }
   ],
   "source": [
    "#raiz questao 1\n",
    "f = lambda x: -0.25 + 0.5*np.exp(-x/(2*np.pi))*np.sin(x)\n",
    "positiva = 2\n",
    "negativa = 3\n",
    "print (f'Raiz: {bipartition(positiva, negativa, f)}')"
   ]
  },
  {
   "cell_type": "code",
   "execution_count": 28,
   "metadata": {},
   "outputs": [
    {
     "name": "stdout",
     "output_type": "stream",
     "text": [
      "Raiz: 0.5804383642971516\n"
     ]
    }
   ],
   "source": [
    "#raiz 1 questao 6\n",
    "f = lambda x: -0.25 + 0.5*np.exp(-x/(2*np.pi))*np.sin(x)\n",
    "positiva = 1\n",
    "negativa = 0\n",
    "print (f'Raiz: {bipartition(positiva, negativa, f)}')"
   ]
  },
  {
   "cell_type": "code",
   "execution_count": 18,
   "metadata": {},
   "outputs": [],
   "source": [
    "#questao 6"
   ]
  },
  {
   "cell_type": "code",
   "execution_count": 21,
   "metadata": {},
   "outputs": [],
   "source": [
    "f = lambda x: - 13189.291 * x**4 + 21922.44565 * x**3 - 13552.895793 * x**2 + 3703.491975 * x - 378.886358"
   ]
  },
  {
   "cell_type": "code",
   "execution_count": 22,
   "metadata": {},
   "outputs": [
    {
     "data": {
      "image/png": "[encoded data removed]",
      "text/plain": [
       "<Figure size 432x288 with 1 Axes>"
      ]
     },
     "metadata": {
      "needs_background": "light"
     },
     "output_type": "display_data"
    }
   ],
   "source": [
    "x = np.linspace(0, 1, 3000)\n",
    "y = f(x)\n",
    "plt.axes()\n",
    "plt.plot(x, [f(d) for d in x])\n",
    "plt.show()"
   ]
  },
  {
   "cell_type": "code",
   "execution_count": 23,
   "metadata": {},
   "outputs": [
    {
     "name": "stdout",
     "output_type": "stream",
     "text": [
      "Raiz: 0.4460983825684525\n"
     ]
    }
   ],
   "source": [
    "#raiz 1 questao 6\n",
    "f = lambda x: - 13189.291 * x**4 + 21922.44565 * x**3 - 13552.895793 * x**2 + 3703.491975 * x - 378.886358\n",
    "positiva = 0.455\n",
    "negativa = 0.43\n",
    "print (f'Raiz: {bipartition(positiva, negativa, f)}')"
   ]
  },
  {
   "cell_type": "code",
   "execution_count": 24,
   "metadata": {},
   "outputs": [
    {
     "name": "stdout",
     "output_type": "stream",
     "text": [
      "Raiz: 0.5301256742299301\n"
     ]
    }
   ],
   "source": [
    "#raiz 2 questao 6\n",
    "f = lambda x: - 13189.291 * x**4 + 21922.44565 * x**3 - 13552.895793 * x**2 + 3703.491975 * x - 378.886358\n",
    "positiva = 0.5\n",
    "negativa = 0.6\n",
    "print (f'Raiz: {bipartition(positiva, negativa, f)}')"
   ]
  },
  {
   "cell_type": "code",
   "execution_count": null,
   "metadata": {},
   "outputs": [],
   "source": []
  }
 ],
 "metadata": {
  "kernelspec": {
   "display_name": "Python 3",
   "language": "python",
   "name": "python3"
  },
  "language_info": {
   "codemirror_mode": {
    "name": "ipython",
    "version": 3
   },
   "file_extension": ".py",
   "mimetype": "text/x-python",
   "name": "python",
   "nbconvert_exporter": "python",
   "pygments_lexer": "ipython3",
   "version": "3.7.1"
  }
 },
 "nbformat": 4,
 "nbformat_minor": 2
}
